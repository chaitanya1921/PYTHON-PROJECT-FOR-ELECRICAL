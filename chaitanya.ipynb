{
  "nbformat": 4,
  "nbformat_minor": 0,
  "metadata": {
    "colab": {
      "provenance": []
    },
    "kernelspec": {
      "name": "python3",
      "display_name": "Python 3"
    },
    "language_info": {
      "name": "python"
    }
  },
  "cells": [
    {
      "cell_type": "code",
      "execution_count": null,
      "metadata": {
        "colab": {
          "base_uri": "https://localhost:8080/"
        },
        "id": "SvDNJLs1y5q_",
        "outputId": "4d590280-b65c-46be-9957-c9cfa61ebb5a"
      },
      "outputs": [
        {
          "output_type": "stream",
          "name": "stdout",
          "text": [
            "Fruits: ['appple', 'banana', 'cherry']\n",
            "First fruit: appple\n",
            "updated Fruits: ['appple', 'cherry', 'mango']\n"
          ]
        }
      ],
      "source": [
        "fruits=[\"appple\",\"banana\",\"cherry\"]\n",
        "print(\"Fruits:\",fruits)\n",
        "print(\"First fruit:\",fruits[0])\n",
        "\n",
        "fruits.append(\"mango\")\n",
        "fruits.remove(\"banana\")\n",
        "print(\"updated Fruits:\",fruits)"
      ]
    },
    {
      "cell_type": "code",
      "source": [
        "def add_numbers(a,b):\n",
        "  return a+b\n",
        "\n",
        "  result=add_numbers(5,7)\n",
        "  print(\"sum is:\",result)"
      ],
      "metadata": {
        "id": "B0STQ_fZzbbt"
      },
      "execution_count": null,
      "outputs": []
    },
    {
      "cell_type": "markdown",
      "source": [],
      "metadata": {
        "id": "tdSQMrgu5KVV"
      }
    },
    {
      "cell_type": "code",
      "source": [
        "print(\"Running the program...\")\n",
        "marks=int(input(\"enter marks:\"))\n",
        "if marks>=90:\n",
        "  print(\"Grade:A\")\n",
        "elif marks>=80:\n",
        "  print(\"Grade:B\")\n",
        "elif marks>=70:\n",
        "  print(\"Grade:C\")\n",
        "elif marks>=60:\n",
        "  print(\"Grade:D\")\n",
        "else:\n",
        "  print(\"Grade:F\")\n",
        "print(\"Program execution completed.\")\n"
      ],
      "metadata": {
        "id": "Yur_B2GozdSL",
        "colab": {
          "base_uri": "https://localhost:8080/"
        },
        "outputId": "08b5b1ad-cf7f-40f2-dcc7-8d86775c43e8"
      },
      "execution_count": null,
      "outputs": [
        {
          "output_type": "stream",
          "name": "stdout",
          "text": [
            "Running the program...\n",
            "enter marks:80\n",
            "Grade:B\n",
            "Program execution completed.\n"
          ]
        }
      ]
    },
    {
      "cell_type": "code",
      "source": [
        "beam_id=\"B12\"\n",
        "Length_M=5.5\n",
        "is_safe=True\n",
        "Materials=[\"steel\",\"concreate\"]\n",
        "\n",
        "display(f\"Beam ID: {beam_id}\")\n",
        "display(f\"Length in meters: {Length_M}\")\n",
        "display(f\"Is safe: {is_safe}\")\n",
        "display(f\"Materials: {Materials}\")"
      ],
      "metadata": {
        "id": "yyQ-NFhq5ZMV",
        "colab": {
          "base_uri": "https://localhost:8080/",
          "height": 91
        },
        "outputId": "8875c810-7716-4cb3-e19b-ba67fff9dba5"
      },
      "execution_count": null,
      "outputs": [
        {
          "output_type": "display_data",
          "data": {
            "text/plain": [
              "'Beam ID: B12'"
            ],
            "application/vnd.google.colaboratory.intrinsic+json": {
              "type": "string"
            }
          },
          "metadata": {}
        },
        {
          "output_type": "display_data",
          "data": {
            "text/plain": [
              "'Length in meters: 5.5'"
            ],
            "application/vnd.google.colaboratory.intrinsic+json": {
              "type": "string"
            }
          },
          "metadata": {}
        },
        {
          "output_type": "display_data",
          "data": {
            "text/plain": [
              "'Is safe: True'"
            ],
            "application/vnd.google.colaboratory.intrinsic+json": {
              "type": "string"
            }
          },
          "metadata": {}
        },
        {
          "output_type": "display_data",
          "data": {
            "text/plain": [
              "\"Materials: ['steel', 'concreate']\""
            ],
            "application/vnd.google.colaboratory.intrinsic+json": {
              "type": "string"
            }
          },
          "metadata": {}
        }
      ]
    },
    {
      "cell_type": "code",
      "source": [
        "stress=250\n",
        "if stress>300:\n",
        "  print(\"fail\")\n",
        "elif stress>250:\n",
        "  print(\"Near Failure\")\n",
        "else:\n",
        "  print(\"safe\")"
      ],
      "metadata": {
        "colab": {
          "base_uri": "https://localhost:8080/"
        },
        "id": "stwC3WcXBSeR",
        "outputId": "86ad7548-cd74-489d-ed69-044aeb96e5df"
      },
      "execution_count": null,
      "outputs": [
        {
          "output_type": "stream",
          "name": "stdout",
          "text": [
            "safe\n"
          ]
        }
      ]
    },
    {
      "cell_type": "code",
      "source": [
        "#civil:slab areas*\n",
        "lengths=[4,5,6]\n",
        "breaths=[3,3.5,4]\n",
        "areas=[l * b for l, b in zip(lengths, breaths)]\n",
        "print(\"Areas:\", areas)\n",
        "#mechanical: gear ratios\n",
        "gear_data={\"G1\":(20,40),\"G2\":(15,45)}\n",
        "ratios={k:driven/driving for k, (driving, driven) in gear_data.items()}\n",
        "print(\"Gear Ratios:\", ratios)"
      ],
      "metadata": {
        "id": "oJ7jno6DBRFx",
        "colab": {
          "base_uri": "https://localhost:8080/"
        },
        "outputId": "28754f71-7281-47aa-b793-3fea0a52f9cf"
      },
      "execution_count": null,
      "outputs": [
        {
          "output_type": "stream",
          "name": "stdout",
          "text": [
            "Areas: [12, 17.5, 24]\n",
            "Gear Ratios: {'G1': 2.0, 'G2': 3.0}\n"
          ]
        }
      ]
    },
    {
      "cell_type": "code",
      "source": [
        "class concreteSlab:\n",
        "  def __init__(self, l, b, h, cost_per_m3):\n",
        "    self.l = l\n",
        "    self.b = b\n",
        "    self.h = h\n",
        "    self.cost_per_m3 = cost_per_m3\n",
        "  def volume(self):\n",
        "    return self.l * self.b * self.h\n",
        "  def total_cost(self):\n",
        "    return self.volume() * self.cost_per_m3\n",
        "\n",
        "slab = concreteSlab(10, 5, 0.2, 3500)\n",
        "print(\"volume:\", slab.volume(), \"m3\")\n",
        "print(\"total cost:\", slab.total_cost(), \"INR\")"
      ],
      "metadata": {
        "colab": {
          "base_uri": "https://localhost:8080/"
        },
        "id": "kKGOSOyPr46K",
        "outputId": "b81908e4-e1ad-477b-dbbd-779f6b94527c"
      },
      "execution_count": null,
      "outputs": [
        {
          "output_type": "stream",
          "name": "stdout",
          "text": [
            "volume: 10.0 m3\n",
            "total cost: 35000.0 INR\n"
          ]
        }
      ]
    },
    {
      "cell_type": "code",
      "source": [
        "from scipy.optimize import fsolve\n",
        "def eq(x):\n",
        "  return 3*x**2-x-1\n",
        "root=fsolve(eq, 0)\n",
        "print('Root:',root)"
      ],
      "metadata": {
        "colab": {
          "base_uri": "https://localhost:8080/"
        },
        "id": "8rtcK3kBOPW4",
        "outputId": "255eb1a0-7cff-41da-cbfa-8afd3da81139"
      },
      "execution_count": null,
      "outputs": [
        {
          "output_type": "stream",
          "name": "stdout",
          "text": [
            "Root: [-0.43425855]\n"
          ]
        }
      ]
    },
    {
      "cell_type": "code",
      "source": [
        "import numpy as np\n",
        "samples=np.random.normal(50,5,10000)\n",
        "failure_rate=np.mean(samples>60)\n",
        "print('Failure Rate:',failure_rate*100,'%')"
      ],
      "metadata": {
        "colab": {
          "base_uri": "https://localhost:8080/"
        },
        "id": "hx0f_MBBP3BB",
        "outputId": "bab0a8e2-e3f5-444b-8224-c5b75ca0187e"
      },
      "execution_count": null,
      "outputs": [
        {
          "output_type": "stream",
          "name": "stdout",
          "text": [
            "Failure Rate: 2.4899999999999998 %\n"
          ]
        }
      ]
    },
    {
      "cell_type": "markdown",
      "source": [
        "from multiprocessing import Pool\n",
        "\n",
        "def square(n):\n",
        "  return n*n\n",
        "\n",
        "if __name__ == '__main__':\n",
        "  with Pool(4) as p:\n",
        "    print(p.map(square,[1,2,3,4,5]))"
      ],
      "metadata": {
        "id": "4zYXl1AvSQew"
      }
    },
    {
      "cell_type": "code",
      "source": [
        "from multiprocessing import Pool\n",
        "\n",
        "def square(n):\n",
        "  return n*n\n",
        "\n",
        "  with Pool(4) as p:\n",
        "    print(p.map(square,[1,2,3,4,5]))"
      ],
      "metadata": {
        "id": "LVn7LSK6T2z6"
      },
      "execution_count": null,
      "outputs": []
    },
    {
      "cell_type": "code",
      "source": [
        "import numpy as np\n",
        "import matplotlib.pyplot as plt\n",
        "from scipy.optimize import curve_fit\n",
        "\n",
        "def model(x,a,b):\n",
        "  return a*np.exp(b*x)\n",
        "\n",
        "x = np.linspace(0, 10, 100)\n",
        "y = model(x, 2, 0.5) + np.random.normal(0, 0.5, 100) # Added parameters for normal distribution\n",
        "popt, _ = curve_fit(model, x, y)\n",
        "\n",
        "plt.scatter(x, y, label='data')\n",
        "plt.plot(x, model(x, *popt), label='fit', color='red') # Corrected plot function call\n",
        "plt.xlabel('x')\n",
        "plt.ylabel('y')\n",
        "plt.legend()\n",
        "plt.show()\n",
        "\n",
        "print(popt) # Corrected typo"
      ],
      "metadata": {
        "colab": {
          "base_uri": "https://localhost:8080/",
          "height": 466
        },
        "id": "4G8kN9o0Y3TV",
        "outputId": "31d8e3d0-db18-40e6-e16e-9746f5b055ca"
      },
      "execution_count": null,
      "outputs": [
        {
          "output_type": "display_data",
          "data": {
            "text/plain": [
              "<Figure size 640x480 with 1 Axes>"
            ],
            "image/png": "[encoded data removed]"
          },
          "metadata": {}
        },
        {
          "output_type": "stream",
          "name": "stdout",
          "text": [
            "[1.9985917  0.50004504]\n"
          ]
        }
      ]
    },
    {
      "cell_type": "code",
      "source": [
        "w,L=5,6\n",
        "M_max=(w*L**2)/8\n",
        "print(M_max)"
      ],
      "metadata": {
        "colab": {
          "base_uri": "https://localhost:8080/"
        },
        "id": "n1OGsyPja-lo",
        "outputId": "197e6b93-de48-41bc-fd9a-05bb05a84f65"
      },
      "execution_count": null,
      "outputs": [
        {
          "output_type": "stream",
          "name": "stdout",
          "text": [
            "22.5\n"
          ]
        }
      ]
    },
    {
      "cell_type": "code",
      "source": [
        "import cmath\n"
      ],
      "metadata": {
        "id": "gU3lPv9ClAVk"
      },
      "execution_count": null,
      "outputs": []
    },
    {
      "cell_type": "code",
      "source": [],
      "metadata": {
        "id": "3wcrs7GOW3Tm"
      },
      "execution_count": null,
      "outputs": []
    }
  ]
}